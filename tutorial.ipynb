{
 "cells": [
  {
   "cell_type": "markdown",
   "metadata": {
    "collapsed": true,
    "pycharm": {
     "name": "#%% md\n"
    }
   },
   "source": [
    "## Tutorial\n",
    "This is a brief tutorial on how to use the CodeEvolution package. The code that follows details how to run a single "
   ]
  },
  {
   "cell_type": "code",
   "execution_count": 25,
   "outputs": [],
   "source": [
    "import CodeEvolution as ce  # Import package\n",
    "# help(ce)\n",
    "# dir(ce)"
   ],
   "metadata": {
    "collapsed": false,
    "pycharm": {
     "name": "#%%\n",
     "is_executing": false
    }
   }
  },
  {
   "cell_type": "markdown",
   "source": [
    "Config\n",
    "\n",
    "Networks list, GrGe, LrGe, LrLe\n",
    "\n",
    "Network.runSimulation\n"
   ],
   "metadata": {
    "collapsed": false,
    "pycharm": {
     "name": "#%% md\n",
     "is_executing": false
    }
   }
  },
  {
   "cell_type": "code",
   "execution_count": 30,
   "outputs": [
    {
     "name": "stdout",
     "text": [
      "{'delta': 0.5,\n 'density': 1,\n 'maxPeriods': 2000,\n 'mutant': Population(ID=8, proportion=0.1),\n 'mutationProbability': 1,\n 'omega': 0.99,\n 'population': Population(ID=0, proportion=0.9),\n 'size': 500,\n 'socialDilemma': {'name': 'PrisonersDilemma', 'benefit': 2, 'cost': 1},\n 'socialNormID': 0,\n 'updateProbability': 0.1}\n"
     ],
     "output_type": "stream"
    }
   ],
   "source": [
    "config = ce.config.Config()\n",
    "from pprint import pprint\n",
    "pprint(config.__dict__)"
   ],
   "metadata": {
    "collapsed": false,
    "pycharm": {
     "name": "#%%\n",
     "is_executing": false
    }
   }
  },
  {
   "cell_type": "markdown",
   "source": [
    "Experiment.run "
   ],
   "metadata": {
    "collapsed": false,
    "pycharm": {
     "name": "#%% md\n",
     "is_executing": false
    }
   }
  },
  {
   "cell_type": "code",
   "execution_count": 27,
   "outputs": [],
   "source": [
    "#code"
   ],
   "metadata": {
    "collapsed": false,
    "pycharm": {
     "name": "#%%\n",
     "is_executing": false
    }
   }
  }
 ],
 "metadata": {
  "language_info": {
   "codemirror_mode": {
    "name": "ipython",
    "version": 2
   },
   "file_extension": ".py",
   "mimetype": "text/x-python",
   "name": "python",
   "nbconvert_exporter": "python",
   "pygments_lexer": "ipython2",
   "version": "2.7.6"
  },
  "kernelspec": {
   "name": "python3",
   "language": "python",
   "display_name": "Python 3"
  },
  "pycharm": {
   "stem_cell": {
    "cell_type": "raw",
    "source": [],
    "metadata": {
     "collapsed": false
    }
   }
  }
 },
 "nbformat": 4,
 "nbformat_minor": 0
}